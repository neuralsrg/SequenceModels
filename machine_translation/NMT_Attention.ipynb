{
  "nbformat": 4,
  "nbformat_minor": 0,
  "metadata": {
    "colab": {
      "name": "NMT_Attention.ipynb",
      "provenance": [],
      "collapsed_sections": [],
      "toc_visible": true,
      "authorship_tag": "ABX9TyPZ6wUUpNp0N1KZjE4XFoRZ",
      "include_colab_link": true
    },
    "kernelspec": {
      "name": "python3",
      "display_name": "Python 3"
    },
    "language_info": {
      "name": "python"
    }
  },
  "cells": [
    {
      "cell_type": "markdown",
      "metadata": {
        "id": "view-in-github",
        "colab_type": "text"
      },
      "source": [
        "<a href=\"https://colab.research.google.com/github/neuralsrg/SequenceModels/blob/main/machine_translation/NMT_Attention.ipynb\" target=\"_parent\"><img src=\"https://colab.research.google.com/assets/colab-badge.svg\" alt=\"Open In Colab\"/></a>"
      ]
    },
    {
      "cell_type": "markdown",
      "source": [
        "# Machine Translation with Attention Model"
      ],
      "metadata": {
        "id": "2DYRHpm_nP7B"
      }
    },
    {
      "cell_type": "code",
      "source": [
        "! pip install faker"
      ],
      "metadata": {
        "id": "uZWnacYeYU8s",
        "colab": {
          "base_uri": "https://localhost:8080/"
        },
        "outputId": "3d39878a-7e6b-40d2-d187-1522efe9b312"
      },
      "execution_count": 1,
      "outputs": [
        {
          "output_type": "stream",
          "name": "stdout",
          "text": [
            "Looking in indexes: https://pypi.org/simple, https://us-python.pkg.dev/colab-wheels/public/simple/\n",
            "Collecting faker\n",
            "  Downloading Faker-13.15.1-py3-none-any.whl (1.6 MB)\n",
            "\u001b[K     |████████████████████████████████| 1.6 MB 5.4 MB/s \n",
            "\u001b[?25hRequirement already satisfied: typing-extensions>=3.10.0.2 in /usr/local/lib/python3.7/dist-packages (from faker) (4.1.1)\n",
            "Requirement already satisfied: python-dateutil>=2.4 in /usr/local/lib/python3.7/dist-packages (from faker) (2.8.2)\n",
            "Requirement already satisfied: six>=1.5 in /usr/local/lib/python3.7/dist-packages (from python-dateutil>=2.4->faker) (1.15.0)\n",
            "Installing collected packages: faker\n",
            "Successfully installed faker-13.15.1\n"
          ]
        }
      ]
    },
    {
      "cell_type": "code",
      "execution_count": 2,
      "metadata": {
        "id": "SnYW0QChYGlb"
      },
      "outputs": [],
      "source": [
        "from faker import Faker # generates random dates\n",
        "import numpy as np \n",
        "from tqdm import trange\n",
        "import babel.dates\n",
        "import tensorflow as tf"
      ]
    },
    {
      "cell_type": "markdown",
      "source": [
        "## Generate dates dataset"
      ],
      "metadata": {
        "id": "INILPObTnMYA"
      }
    },
    {
      "cell_type": "code",
      "source": [
        "def generate_dataset(m : int):\n",
        "\n",
        "  generator = Faker()\n",
        "  FORMATS = ['short', 'medium', 'long', 'full', 'd MM YY', 'd MMM YYY',\n",
        "             'd MMMM YYY', 'd MMM, YYY', 'd MMMM, YYY', 'dd, MMM YYY', 'd MM YY',\n",
        "             'MMMM d YYY', 'MMMM d, YYY', 'dd.MM.YY']\n",
        "  PROBS = [.04, .04, .04, .44, .04, .08, .04, .04, .04, .04, .04, 0.04, .04, .04]\n",
        "\n",
        "  Tx = 30\n",
        "  dataset = []\n",
        "  human = set()\n",
        "  machine = set()\n",
        "\n",
        "  for i in trange(m):\n",
        "    date_object = generator.date_object()\n",
        "\n",
        "    human_readable = babel.dates.format_date(date_object,\n",
        "                                              format=np.random.choice(FORMATS, p=PROBS),\n",
        "                                              locale='en_US')\n",
        "    human_readable = human_readable.lower().replace(',','')\n",
        "    machine_readable = date_object.isoformat()\n",
        "\n",
        "    dataset.append((human_readable, machine_readable))\n",
        "    human.update(tuple(human_readable))\n",
        "    machine.update(tuple(machine_readable))\n",
        "\n",
        "  human = dict(zip(sorted(human) + ['<unk>', '<pad>'], \n",
        "                     list(range(len(human) + 2))))\n",
        "  inv_machine = dict(enumerate(sorted(machine)))\n",
        "  machine = {v:k for k,v in inv_machine.items()}\n",
        "\n",
        "  return dataset, human, machine, inv_machine"
      ],
      "metadata": {
        "id": "-sEYApqHbMrR"
      },
      "execution_count": 3,
      "outputs": []
    },
    {
      "cell_type": "code",
      "source": [
        "dataset, human_vocab, machine_vocab, inv_machine_vocab = generate_dataset(10000)\n",
        "dataset[:10]"
      ],
      "metadata": {
        "colab": {
          "base_uri": "https://localhost:8080/"
        },
        "id": "sasekzTOfDNy",
        "outputId": "2b46d2de-3f10-4838-e61a-7d3175520eb2"
      },
      "execution_count": 4,
      "outputs": [
        {
          "output_type": "stream",
          "name": "stderr",
          "text": [
            "100%|██████████| 10000/10000 [00:01<00:00, 5154.13it/s]\n"
          ]
        },
        {
          "output_type": "execute_result",
          "data": {
            "text/plain": [
              "[('21 feb 1993', '1993-02-21'),\n",
              " ('tuesday november 20 1984', '1984-11-20'),\n",
              " ('friday april 15 2022', '2022-04-15'),\n",
              " ('11 06 12', '2012-06-11'),\n",
              " ('thursday april 19 1973', '1973-04-19'),\n",
              " ('9 apr 1971', '1971-04-09'),\n",
              " ('wednesday january 27 1982', '1982-01-27'),\n",
              " ('tuesday june 14 1994', '1994-06-14'),\n",
              " ('saturday june 16 2012', '2012-06-16'),\n",
              " ('monday february 8 2016', '2016-02-08')]"
            ]
          },
          "metadata": {},
          "execution_count": 4
        }
      ]
    },
    {
      "cell_type": "code",
      "source": [
        "# here we implent text encoding manually, but we also could use tf.keras.layers.TextVectorization\n",
        "\n",
        "def encode(expression : str, Tx : int, v : dict):\n",
        "\n",
        "  #expression = expression.replace(',', '')\n",
        "  expression = expression.lower() if len(expression) <= Tx \\\n",
        "      else expression.lower()[:Tx]\n",
        "  encoding = list(map(lambda x: v.get(x, '<unk>'), expression)) # encoding or <unk> if not found\n",
        "  if len(expression) < Tx:\n",
        "    encoding += [v['<pad>']] * (Tx - len(expression))\n",
        "\n",
        "  return encoding\n",
        "\n",
        "\n",
        "def decode(encoding : list, inverse_v : dict):\n",
        "  \n",
        "  return [inverse_v[i] for i in encoding]"
      ],
      "metadata": {
        "id": "kvrdsAsdo9W5"
      },
      "execution_count": 5,
      "outputs": []
    },
    {
      "cell_type": "code",
      "source": [
        "Tx, Ty = 30, 10\n",
        "\n",
        "X, Y = zip(*dataset)\n",
        "X = np.array([encode(x, Tx, human_vocab) for x in X])\n",
        "Y = np.array([encode(y, Ty, machine_vocab) for y in Y])\n",
        "\n",
        "X_onehot = np.array(list(map(lambda x: \\\n",
        "    tf.keras.utils.to_categorical(x, num_classes=len(human_vocab)), X)))\n",
        "Y_onehot = np.array(list(map(lambda y: \\\n",
        "    tf.keras.utils.to_categorical(y, num_classes=len(machine_vocab)), Y)))\n",
        "\n",
        "print(\"X.shape:\", X.shape)\n",
        "print(\"Y.shape:\", Y.shape)\n",
        "print(\"X_onehot.shape:\", X_onehot.shape)\n",
        "print(\"Y_onehot.shape:\", Y_onehot.shape)"
      ],
      "metadata": {
        "colab": {
          "base_uri": "https://localhost:8080/"
        },
        "id": "kyj5aXbRlKzr",
        "outputId": "a7212d1c-187c-44cf-f415-19e8dc49043a"
      },
      "execution_count": 6,
      "outputs": [
        {
          "output_type": "stream",
          "name": "stdout",
          "text": [
            "X.shape: (10000, 30)\n",
            "Y.shape: (10000, 10)\n",
            "X_onehot.shape: (10000, 30, 37)\n",
            "Y_onehot.shape: (10000, 10, 11)\n"
          ]
        }
      ]
    },
    {
      "cell_type": "markdown",
      "source": [
        "## Attention Model\n",
        "\n",
        "\n",
        "![image](https://i.imgur.com/unr4XIk.png)"
      ],
      "metadata": {
        "id": "43MPFb8W-XI2"
      }
    },
    {
      "cell_type": "code",
      "source": [
        "def create_model(Tx : int, Ty : int, n_a : int, n_s : int,\n",
        "                 human_vocab_size : int, machine_vocab_size : int):\n",
        "\n",
        "  # (num_samples, features) --> (num_samples, n, features)\n",
        "  repeat_vector = tf.keras.layers.RepeatVector(n=Tx)\n",
        "  concatenate = tf.keras.layers.Concatenate(axis=-1) # feature axis\n",
        "  dense1 = tf.keras.layers.Dense(10, activation='tanh')\n",
        "  dense2 = tf.keras.layers.Dense(1, activation='relu')\n",
        "  activation = tf.keras.layers.Activation(activation=tf.nn.softmax, name='attention_weights')\n",
        "  dot = tf.keras.layers.Dot(axes=1)\n",
        "\n",
        "  def attention(a, s_prev):\n",
        "    \"\"\"\n",
        "    Implements the attention block within neural net\n",
        "\n",
        "    Arguments:\n",
        "    a -- pre-attention Bi-LSTM hidden states (m, Tx, 2*n_a)\n",
        "    s_prev -- previous post-attention LSTM hidden state (m, n_s)\n",
        "\n",
        "    Returns:\n",
        "    context -- input vector for post-attention LSTM\n",
        "    \"\"\"\n",
        "    s_prev = repeat_vector(s_prev) # (m, Tx, n_s)\n",
        "    concatenated = concatenate([a, s_prev]) # (m, Tx, 2n_a + n_s)\n",
        "    energies = dense1(concatenated) # (m, Tx, 10)\n",
        "    energies = dense2(energies) # (m, Tx, 1)\n",
        "    weights = activation(energies) # (m, Tx, 1)\n",
        "    context = dot([weights, a]) # (m, 2n_a)\n",
        "\n",
        "    return context\n",
        "\n",
        "  post_attention_LSTM = tf.keras.layers.LSTM(n_s, return_state=True)\n",
        "  output_layer = tf.keras.layers.Dense(machine_vocab_size, activation='softmax')\n",
        "  outputs = []\n",
        "\n",
        "  x = tf.keras.layers.Input(shape=(Tx, human_vocab_size), name='x')\n",
        "  s0 = tf.keras.layers.Input(shape=(n_s,), name='s0')\n",
        "  c0 = tf.keras.layers.Input(shape=(n_s,), name='c0')\n",
        "  s = s0\n",
        "  c = c0\n",
        "\n",
        "  LSTM = tf.keras.layers.LSTM(n_a, return_sequences=True)\n",
        "  a = tf.keras.layers.Bidirectional(layer=LSTM, merge_mode='concat')(x)\n",
        "\n",
        "  for t in range(Ty):\n",
        "\n",
        "    context = attention(a, s)\n",
        "    s, _, c = post_attention_LSTM(context, initial_state=[s, c])\n",
        "    # here s - output (usually passed to dense layer), blank one is the last hidden_states\n",
        "    # and c is the last memory state. s[:, -1, :] (in case return_sequences = True) == last hidden_state, But since \n",
        "    # return_sequences is set to False by default, s is 2-dimensional and s == last hidden_state\n",
        "    output = output_layer(s)\n",
        "    outputs.append(output)\n",
        "\n",
        "  return tf.keras.Model(inputs=[x, s0, c0], outputs=outputs)"
      ],
      "metadata": {
        "id": "ku2uWlEf8KLH"
      },
      "execution_count": 10,
      "outputs": []
    },
    {
      "cell_type": "code",
      "source": [
        "n_a = 32 # pre-attention hidden states\n",
        "n_s = 64 # post-attention hidden states\n",
        "\n",
        "model = create_model(Tx, Ty, n_a, n_s, len(human_vocab), len(machine_vocab))\n",
        "model.summary()"
      ],
      "metadata": {
        "colab": {
          "base_uri": "https://localhost:8080/"
        },
        "id": "vvOe-Vs1xt7P",
        "outputId": "d24043ec-0872-4183-fb55-0b0d4b74a86e"
      },
      "execution_count": 12,
      "outputs": [
        {
          "output_type": "stream",
          "name": "stdout",
          "text": [
            "Model: \"model_1\"\n",
            "__________________________________________________________________________________________________\n",
            " Layer (type)                   Output Shape         Param #     Connected to                     \n",
            "==================================================================================================\n",
            " x (InputLayer)                 [(None, 30, 37)]     0           []                               \n",
            "                                                                                                  \n",
            " s0 (InputLayer)                [(None, 64)]         0           []                               \n",
            "                                                                                                  \n",
            " bidirectional_2 (Bidirectional  (None, 30, 64)      17920       ['x[0][0]']                      \n",
            " )                                                                                                \n",
            "                                                                                                  \n",
            " repeat_vector_2 (RepeatVector)  (None, 30, 64)      0           ['s0[0][0]',                     \n",
            "                                                                  'lstm_4[0][0]',                 \n",
            "                                                                  'lstm_4[1][0]',                 \n",
            "                                                                  'lstm_4[2][0]',                 \n",
            "                                                                  'lstm_4[3][0]',                 \n",
            "                                                                  'lstm_4[4][0]',                 \n",
            "                                                                  'lstm_4[5][0]',                 \n",
            "                                                                  'lstm_4[6][0]',                 \n",
            "                                                                  'lstm_4[7][0]',                 \n",
            "                                                                  'lstm_4[8][0]']                 \n",
            "                                                                                                  \n",
            " concatenate_2 (Concatenate)    (None, 30, 128)      0           ['bidirectional_2[0][0]',        \n",
            "                                                                  'repeat_vector_2[0][0]',        \n",
            "                                                                  'bidirectional_2[0][0]',        \n",
            "                                                                  'repeat_vector_2[1][0]',        \n",
            "                                                                  'bidirectional_2[0][0]',        \n",
            "                                                                  'repeat_vector_2[2][0]',        \n",
            "                                                                  'bidirectional_2[0][0]',        \n",
            "                                                                  'repeat_vector_2[3][0]',        \n",
            "                                                                  'bidirectional_2[0][0]',        \n",
            "                                                                  'repeat_vector_2[4][0]',        \n",
            "                                                                  'bidirectional_2[0][0]',        \n",
            "                                                                  'repeat_vector_2[5][0]',        \n",
            "                                                                  'bidirectional_2[0][0]',        \n",
            "                                                                  'repeat_vector_2[6][0]',        \n",
            "                                                                  'bidirectional_2[0][0]',        \n",
            "                                                                  'repeat_vector_2[7][0]',        \n",
            "                                                                  'bidirectional_2[0][0]',        \n",
            "                                                                  'repeat_vector_2[8][0]',        \n",
            "                                                                  'bidirectional_2[0][0]',        \n",
            "                                                                  'repeat_vector_2[9][0]']        \n",
            "                                                                                                  \n",
            " dense_6 (Dense)                (None, 30, 10)       1290        ['concatenate_2[0][0]',          \n",
            "                                                                  'concatenate_2[1][0]',          \n",
            "                                                                  'concatenate_2[2][0]',          \n",
            "                                                                  'concatenate_2[3][0]',          \n",
            "                                                                  'concatenate_2[4][0]',          \n",
            "                                                                  'concatenate_2[5][0]',          \n",
            "                                                                  'concatenate_2[6][0]',          \n",
            "                                                                  'concatenate_2[7][0]',          \n",
            "                                                                  'concatenate_2[8][0]',          \n",
            "                                                                  'concatenate_2[9][0]']          \n",
            "                                                                                                  \n",
            " dense_7 (Dense)                (None, 30, 1)        11          ['dense_6[0][0]',                \n",
            "                                                                  'dense_6[1][0]',                \n",
            "                                                                  'dense_6[2][0]',                \n",
            "                                                                  'dense_6[3][0]',                \n",
            "                                                                  'dense_6[4][0]',                \n",
            "                                                                  'dense_6[5][0]',                \n",
            "                                                                  'dense_6[6][0]',                \n",
            "                                                                  'dense_6[7][0]',                \n",
            "                                                                  'dense_6[8][0]',                \n",
            "                                                                  'dense_6[9][0]']                \n",
            "                                                                                                  \n",
            " attention_weights (Activation)  (None, 30, 1)       0           ['dense_7[0][0]',                \n",
            "                                                                  'dense_7[1][0]',                \n",
            "                                                                  'dense_7[2][0]',                \n",
            "                                                                  'dense_7[3][0]',                \n",
            "                                                                  'dense_7[4][0]',                \n",
            "                                                                  'dense_7[5][0]',                \n",
            "                                                                  'dense_7[6][0]',                \n",
            "                                                                  'dense_7[7][0]',                \n",
            "                                                                  'dense_7[8][0]',                \n",
            "                                                                  'dense_7[9][0]']                \n",
            "                                                                                                  \n",
            " dot_2 (Dot)                    (None, 1, 64)        0           ['attention_weights[0][0]',      \n",
            "                                                                  'bidirectional_2[0][0]',        \n",
            "                                                                  'attention_weights[1][0]',      \n",
            "                                                                  'bidirectional_2[0][0]',        \n",
            "                                                                  'attention_weights[2][0]',      \n",
            "                                                                  'bidirectional_2[0][0]',        \n",
            "                                                                  'attention_weights[3][0]',      \n",
            "                                                                  'bidirectional_2[0][0]',        \n",
            "                                                                  'attention_weights[4][0]',      \n",
            "                                                                  'bidirectional_2[0][0]',        \n",
            "                                                                  'attention_weights[5][0]',      \n",
            "                                                                  'bidirectional_2[0][0]',        \n",
            "                                                                  'attention_weights[6][0]',      \n",
            "                                                                  'bidirectional_2[0][0]',        \n",
            "                                                                  'attention_weights[7][0]',      \n",
            "                                                                  'bidirectional_2[0][0]',        \n",
            "                                                                  'attention_weights[8][0]',      \n",
            "                                                                  'bidirectional_2[0][0]',        \n",
            "                                                                  'attention_weights[9][0]',      \n",
            "                                                                  'bidirectional_2[0][0]']        \n",
            "                                                                                                  \n",
            " c0 (InputLayer)                [(None, 64)]         0           []                               \n",
            "                                                                                                  \n",
            " lstm_4 (LSTM)                  [(None, 64),         33024       ['dot_2[0][0]',                  \n",
            "                                 (None, 64),                      's0[0][0]',                     \n",
            "                                 (None, 64)]                      'c0[0][0]',                     \n",
            "                                                                  'dot_2[1][0]',                  \n",
            "                                                                  'lstm_4[0][0]',                 \n",
            "                                                                  'lstm_4[0][2]',                 \n",
            "                                                                  'dot_2[2][0]',                  \n",
            "                                                                  'lstm_4[1][0]',                 \n",
            "                                                                  'lstm_4[1][2]',                 \n",
            "                                                                  'dot_2[3][0]',                  \n",
            "                                                                  'lstm_4[2][0]',                 \n",
            "                                                                  'lstm_4[2][2]',                 \n",
            "                                                                  'dot_2[4][0]',                  \n",
            "                                                                  'lstm_4[3][0]',                 \n",
            "                                                                  'lstm_4[3][2]',                 \n",
            "                                                                  'dot_2[5][0]',                  \n",
            "                                                                  'lstm_4[4][0]',                 \n",
            "                                                                  'lstm_4[4][2]',                 \n",
            "                                                                  'dot_2[6][0]',                  \n",
            "                                                                  'lstm_4[5][0]',                 \n",
            "                                                                  'lstm_4[5][2]',                 \n",
            "                                                                  'dot_2[7][0]',                  \n",
            "                                                                  'lstm_4[6][0]',                 \n",
            "                                                                  'lstm_4[6][2]',                 \n",
            "                                                                  'dot_2[8][0]',                  \n",
            "                                                                  'lstm_4[7][0]',                 \n",
            "                                                                  'lstm_4[7][2]',                 \n",
            "                                                                  'dot_2[9][0]',                  \n",
            "                                                                  'lstm_4[8][0]',                 \n",
            "                                                                  'lstm_4[8][2]']                 \n",
            "                                                                                                  \n",
            " dense_8 (Dense)                (None, 11)           715         ['lstm_4[0][0]',                 \n",
            "                                                                  'lstm_4[1][0]',                 \n",
            "                                                                  'lstm_4[2][0]',                 \n",
            "                                                                  'lstm_4[3][0]',                 \n",
            "                                                                  'lstm_4[4][0]',                 \n",
            "                                                                  'lstm_4[5][0]',                 \n",
            "                                                                  'lstm_4[6][0]',                 \n",
            "                                                                  'lstm_4[7][0]',                 \n",
            "                                                                  'lstm_4[8][0]',                 \n",
            "                                                                  'lstm_4[9][0]']                 \n",
            "                                                                                                  \n",
            "==================================================================================================\n",
            "Total params: 52,960\n",
            "Trainable params: 52,960\n",
            "Non-trainable params: 0\n",
            "__________________________________________________________________________________________________\n"
          ]
        }
      ]
    },
    {
      "cell_type": "code",
      "source": [
        "model.compile(\n",
        "    optimizer=tf.keras.optimizers.Adam(learning_rate=.005, decay=.01),\n",
        "    loss=tf.keras.losses.CategoricalCrossentropy(from_logits=False),\n",
        "    metrics=['acc']\n",
        ")"
      ],
      "metadata": {
        "id": "6UbxLOD1yEn9"
      },
      "execution_count": 14,
      "outputs": []
    },
    {
      "cell_type": "code",
      "source": [
        "model.output_shape"
      ],
      "metadata": {
        "colab": {
          "base_uri": "https://localhost:8080/"
        },
        "id": "e3-QPPh905Gd",
        "outputId": "1bc10e26-6230-4104-96d8-185e630946ef"
      },
      "execution_count": 15,
      "outputs": [
        {
          "output_type": "execute_result",
          "data": {
            "text/plain": [
              "[(None, 11),\n",
              " (None, 11),\n",
              " (None, 11),\n",
              " (None, 11),\n",
              " (None, 11),\n",
              " (None, 11),\n",
              " (None, 11),\n",
              " (None, 11),\n",
              " (None, 11),\n",
              " (None, 11)]"
            ]
          },
          "metadata": {},
          "execution_count": 15
        }
      ]
    },
    {
      "cell_type": "code",
      "source": [
        "m = 10000\n",
        "batch_size = 100\n",
        "\n",
        "s0 = np.zeros((m, n_s)) # fit() will batch them into (batch_size, n_s)\n",
        "c0 = np.zeros((m, n_s))\n",
        "\n",
        "outputs = list(Y_onehot.swapaxes(0, 1))\n",
        "len(outputs)"
      ],
      "metadata": {
        "colab": {
          "base_uri": "https://localhost:8080/"
        },
        "id": "i5-mFMGf2_Ht",
        "outputId": "b9f065c4-4bac-48c1-d4d0-f5f1dd822447"
      },
      "execution_count": 18,
      "outputs": [
        {
          "output_type": "execute_result",
          "data": {
            "text/plain": [
              "10"
            ]
          },
          "metadata": {},
          "execution_count": 18
        }
      ]
    },
    {
      "cell_type": "code",
      "source": [
        "model.fit(\n",
        "    x=[X_onehot, s0, c0],\n",
        "    y=outputs,\n",
        "    epochs=10,\n",
        "    verbose=1\n",
        ")"
      ],
      "metadata": {
        "colab": {
          "base_uri": "https://localhost:8080/"
        },
        "id": "OLO1VMTK3e30",
        "outputId": "f4eebf69-b797-4120-ee24-19eb9c7100f7"
      },
      "execution_count": 19,
      "outputs": [
        {
          "output_type": "stream",
          "name": "stdout",
          "text": [
            "Epoch 1/10\n",
            "313/313 [==============================] - 44s 54ms/step - loss: 11.7234 - dense_8_loss: 0.4227 - dense_8_1_loss: 0.4355 - dense_8_2_loss: 1.0907 - dense_8_3_loss: 1.9952 - dense_8_4_loss: 0.6270 - dense_8_5_loss: 1.0300 - dense_8_6_loss: 1.9893 - dense_8_7_loss: 0.7091 - dense_8_8_loss: 1.3917 - dense_8_9_loss: 2.0323 - dense_8_acc: 0.9021 - dense_8_1_acc: 0.8828 - dense_8_2_acc: 0.6212 - dense_8_3_acc: 0.2708 - dense_8_4_acc: 0.8508 - dense_8_5_acc: 0.5521 - dense_8_6_acc: 0.2545 - dense_8_7_acc: 0.8051 - dense_8_8_acc: 0.4076 - dense_8_9_acc: 0.2514\n",
            "Epoch 2/10\n",
            "313/313 [==============================] - 19s 61ms/step - loss: 5.4371 - dense_8_loss: 0.1222 - dense_8_1_loss: 0.0908 - dense_8_2_loss: 0.5597 - dense_8_3_loss: 1.2553 - dense_8_4_loss: 0.0194 - dense_8_5_loss: 0.2524 - dense_8_6_loss: 1.1204 - dense_8_7_loss: 0.0239 - dense_8_8_loss: 0.7019 - dense_8_9_loss: 1.2910 - dense_8_acc: 0.9662 - dense_8_1_acc: 0.9670 - dense_8_2_acc: 0.7926 - dense_8_3_acc: 0.5244 - dense_8_4_acc: 1.0000 - dense_8_5_acc: 0.9332 - dense_8_6_acc: 0.5951 - dense_8_7_acc: 0.9990 - dense_8_8_acc: 0.7390 - dense_8_9_acc: 0.4854\n",
            "Epoch 3/10\n",
            "313/313 [==============================] - 17s 55ms/step - loss: 4.0155 - dense_8_loss: 0.0936 - dense_8_1_loss: 0.0738 - dense_8_2_loss: 0.4702 - dense_8_3_loss: 0.8740 - dense_8_4_loss: 0.0144 - dense_8_5_loss: 0.1763 - dense_8_6_loss: 0.8233 - dense_8_7_loss: 0.0158 - dense_8_8_loss: 0.5210 - dense_8_9_loss: 0.9530 - dense_8_acc: 0.9702 - dense_8_1_acc: 0.9727 - dense_8_2_acc: 0.8187 - dense_8_3_acc: 0.7135 - dense_8_4_acc: 1.0000 - dense_8_5_acc: 0.9521 - dense_8_6_acc: 0.7350 - dense_8_7_acc: 0.9998 - dense_8_8_acc: 0.8154 - dense_8_9_acc: 0.6483\n",
            "Epoch 4/10\n",
            "313/313 [==============================] - 17s 55ms/step - loss: 3.1548 - dense_8_loss: 0.0807 - dense_8_1_loss: 0.0660 - dense_8_2_loss: 0.4274 - dense_8_3_loss: 0.6121 - dense_8_4_loss: 0.0122 - dense_8_5_loss: 0.1374 - dense_8_6_loss: 0.6430 - dense_8_7_loss: 0.0117 - dense_8_8_loss: 0.4225 - dense_8_9_loss: 0.7417 - dense_8_acc: 0.9722 - dense_8_1_acc: 0.9738 - dense_8_2_acc: 0.8261 - dense_8_3_acc: 0.8293 - dense_8_4_acc: 1.0000 - dense_8_5_acc: 0.9628 - dense_8_6_acc: 0.8095 - dense_8_7_acc: 1.0000 - dense_8_8_acc: 0.8594 - dense_8_9_acc: 0.7446\n",
            "Epoch 5/10\n",
            "313/313 [==============================] - 17s 55ms/step - loss: 2.6412 - dense_8_loss: 0.0722 - dense_8_1_loss: 0.0608 - dense_8_2_loss: 0.3981 - dense_8_3_loss: 0.4732 - dense_8_4_loss: 0.0096 - dense_8_5_loss: 0.1189 - dense_8_6_loss: 0.5310 - dense_8_7_loss: 0.0092 - dense_8_8_loss: 0.3540 - dense_8_9_loss: 0.6143 - dense_8_acc: 0.9738 - dense_8_1_acc: 0.9759 - dense_8_2_acc: 0.8262 - dense_8_3_acc: 0.8733 - dense_8_4_acc: 1.0000 - dense_8_5_acc: 0.9680 - dense_8_6_acc: 0.8536 - dense_8_7_acc: 1.0000 - dense_8_8_acc: 0.8867 - dense_8_9_acc: 0.7905\n",
            "Epoch 6/10\n",
            "313/313 [==============================] - 18s 56ms/step - loss: 2.3083 - dense_8_loss: 0.0673 - dense_8_1_loss: 0.0575 - dense_8_2_loss: 0.3785 - dense_8_3_loss: 0.3862 - dense_8_4_loss: 0.0080 - dense_8_5_loss: 0.1042 - dense_8_6_loss: 0.4658 - dense_8_7_loss: 0.0079 - dense_8_8_loss: 0.3060 - dense_8_9_loss: 0.5269 - dense_8_acc: 0.9744 - dense_8_1_acc: 0.9762 - dense_8_2_acc: 0.8264 - dense_8_3_acc: 0.9004 - dense_8_4_acc: 1.0000 - dense_8_5_acc: 0.9724 - dense_8_6_acc: 0.8718 - dense_8_7_acc: 0.9999 - dense_8_8_acc: 0.9042 - dense_8_9_acc: 0.8287\n",
            "Epoch 7/10\n",
            "313/313 [==============================] - 18s 56ms/step - loss: 2.0791 - dense_8_loss: 0.0634 - dense_8_1_loss: 0.0547 - dense_8_2_loss: 0.3611 - dense_8_3_loss: 0.3360 - dense_8_4_loss: 0.0068 - dense_8_5_loss: 0.0956 - dense_8_6_loss: 0.4170 - dense_8_7_loss: 0.0070 - dense_8_8_loss: 0.2678 - dense_8_9_loss: 0.4696 - dense_8_acc: 0.9757 - dense_8_1_acc: 0.9768 - dense_8_2_acc: 0.8262 - dense_8_3_acc: 0.9142 - dense_8_4_acc: 1.0000 - dense_8_5_acc: 0.9748 - dense_8_6_acc: 0.8865 - dense_8_7_acc: 1.0000 - dense_8_8_acc: 0.9155 - dense_8_9_acc: 0.8487\n",
            "Epoch 8/10\n",
            "313/313 [==============================] - 18s 57ms/step - loss: 1.9123 - dense_8_loss: 0.0603 - dense_8_1_loss: 0.0526 - dense_8_2_loss: 0.3461 - dense_8_3_loss: 0.2974 - dense_8_4_loss: 0.0059 - dense_8_5_loss: 0.0890 - dense_8_6_loss: 0.3857 - dense_8_7_loss: 0.0065 - dense_8_8_loss: 0.2424 - dense_8_9_loss: 0.4263 - dense_8_acc: 0.9761 - dense_8_1_acc: 0.9771 - dense_8_2_acc: 0.8295 - dense_8_3_acc: 0.9257 - dense_8_4_acc: 1.0000 - dense_8_5_acc: 0.9764 - dense_8_6_acc: 0.8915 - dense_8_7_acc: 1.0000 - dense_8_8_acc: 0.9259 - dense_8_9_acc: 0.8640\n",
            "Epoch 9/10\n",
            "313/313 [==============================] - 19s 60ms/step - loss: 1.7788 - dense_8_loss: 0.0575 - dense_8_1_loss: 0.0497 - dense_8_2_loss: 0.3335 - dense_8_3_loss: 0.2704 - dense_8_4_loss: 0.0052 - dense_8_5_loss: 0.0831 - dense_8_6_loss: 0.3576 - dense_8_7_loss: 0.0060 - dense_8_8_loss: 0.2230 - dense_8_9_loss: 0.3929 - dense_8_acc: 0.9769 - dense_8_1_acc: 0.9785 - dense_8_2_acc: 0.8324 - dense_8_3_acc: 0.9362 - dense_8_4_acc: 1.0000 - dense_8_5_acc: 0.9780 - dense_8_6_acc: 0.8972 - dense_8_7_acc: 1.0000 - dense_8_8_acc: 0.9300 - dense_8_9_acc: 0.8716\n",
            "Epoch 10/10\n",
            "313/313 [==============================] - 17s 56ms/step - loss: 1.6789 - dense_8_loss: 0.0552 - dense_8_1_loss: 0.0482 - dense_8_2_loss: 0.3242 - dense_8_3_loss: 0.2499 - dense_8_4_loss: 0.0045 - dense_8_5_loss: 0.0792 - dense_8_6_loss: 0.3377 - dense_8_7_loss: 0.0055 - dense_8_8_loss: 0.2054 - dense_8_9_loss: 0.3691 - dense_8_acc: 0.9777 - dense_8_1_acc: 0.9791 - dense_8_2_acc: 0.8342 - dense_8_3_acc: 0.9417 - dense_8_4_acc: 1.0000 - dense_8_5_acc: 0.9786 - dense_8_6_acc: 0.9029 - dense_8_7_acc: 1.0000 - dense_8_8_acc: 0.9347 - dense_8_9_acc: 0.8783\n"
          ]
        },
        {
          "output_type": "execute_result",
          "data": {
            "text/plain": [
              "<keras.callbacks.History at 0x7fe763bee490>"
            ]
          },
          "metadata": {},
          "execution_count": 19
        }
      ]
    },
    {
      "cell_type": "markdown",
      "source": [
        "## Evaluating"
      ],
      "metadata": {
        "id": "v4l8wncy6mRp"
      }
    },
    {
      "cell_type": "code",
      "source": [
        "dataset, human_vocab, machine_vocab, inv_machine_vocab = generate_dataset(1000)\n",
        "dataset = dataset[:10]\n",
        "\n",
        "X, Y = zip(*dataset)\n",
        "X = np.array([encode(x, Tx, human_vocab) for x in X])\n",
        "Y = np.array([encode(y, Ty, machine_vocab) for y in Y])\n",
        "\n",
        "X_onehot = np.array(list(map(lambda x: \\\n",
        "    tf.keras.utils.to_categorical(x, num_classes=len(human_vocab)), X)))\n",
        "Y_onehot = np.array(list(map(lambda y: \\\n",
        "    tf.keras.utils.to_categorical(y, num_classes=len(machine_vocab)), Y)))\n",
        "\n",
        "print(\"X.shape:\", X.shape)\n",
        "print(\"Y.shape:\", Y.shape)\n",
        "print(\"X_onehot.shape:\", X_onehot.shape)\n",
        "print(\"Y_onehot.shape:\", Y_onehot.shape)"
      ],
      "metadata": {
        "colab": {
          "base_uri": "https://localhost:8080/"
        },
        "id": "BerNPfKy6lAQ",
        "outputId": "221eb679-a21d-450a-90d6-088d112c33f4"
      },
      "execution_count": 23,
      "outputs": [
        {
          "output_type": "stream",
          "name": "stderr",
          "text": [
            "100%|██████████| 1000/1000 [00:00<00:00, 4463.62it/s]"
          ]
        },
        {
          "output_type": "stream",
          "name": "stdout",
          "text": [
            "X.shape: (10, 30)\n",
            "Y.shape: (10, 10)\n",
            "X_onehot.shape: (10, 30, 37)\n",
            "Y_onehot.shape: (10, 10, 11)\n"
          ]
        },
        {
          "output_type": "stream",
          "name": "stderr",
          "text": [
            "\n"
          ]
        }
      ]
    },
    {
      "cell_type": "code",
      "source": [
        "predictions = model.predict([X_onehot, np.zeros((10, n_s)), np.zeros((10, n_s))])\n",
        "predictions = np.argmax(np.stack(predictions), axis=-1)\n",
        "predictions.shape"
      ],
      "metadata": {
        "colab": {
          "base_uri": "https://localhost:8080/"
        },
        "id": "sfpcwGWw7Dyf",
        "outputId": "d59c1568-1498-413b-f53a-3a8f70d65f70"
      },
      "execution_count": 24,
      "outputs": [
        {
          "output_type": "execute_result",
          "data": {
            "text/plain": [
              "(10, 10)"
            ]
          },
          "metadata": {},
          "execution_count": 24
        }
      ]
    },
    {
      "cell_type": "code",
      "source": [
        "X, _ = zip(*dataset)\n",
        "\n",
        "for x, predicted in zip(X, list(predictions.T)):\n",
        "  print('{0:11}'.format('x :'), x)\n",
        "  output = [inv_machine_vocab[int(p)] for p in predicted]\n",
        "  print('predicted :', ''.join(output), '\\n')\n"
      ],
      "metadata": {
        "colab": {
          "base_uri": "https://localhost:8080/"
        },
        "id": "wWzUUbAs8-1-",
        "outputId": "446dc689-35a3-48f0-fd0a-87de70471afc"
      },
      "execution_count": 33,
      "outputs": [
        {
          "output_type": "stream",
          "name": "stdout",
          "text": [
            "x :         23 mar 1986\n",
            "predicted : 1986-03-23 \n",
            "\n",
            "x :         saturday september 21 1996\n",
            "predicted : 1996-09-21 \n",
            "\n",
            "x :         thursday july 22 1971\n",
            "predicted : 1971-07-22 \n",
            "\n",
            "x :         august 7 2021\n",
            "predicted : 2011-08-07 \n",
            "\n",
            "x :         saturday december 26 2015\n",
            "predicted : 2015-12-26 \n",
            "\n",
            "x :         tuesday october 23 2012\n",
            "predicted : 2012-10-23 \n",
            "\n",
            "x :         thursday february 27 1975\n",
            "predicted : 1975-02-27 \n",
            "\n",
            "x :         23 december 1975\n",
            "predicted : 1975-12-23 \n",
            "\n",
            "x :         1 10 94\n",
            "predicted : 1994-01-01 \n",
            "\n",
            "x :         tuesday january 17 1995\n",
            "predicted : 1995-01-17 \n",
            "\n"
          ]
        }
      ]
    },
    {
      "cell_type": "markdown",
      "source": [
        "# Attention maps"
      ],
      "metadata": {
        "id": "Y_oJexyyDMix"
      }
    },
    {
      "cell_type": "code",
      "source": [
        "import matplotlib.pyplot as plt\n",
        "\n",
        "def plot_attention_map(model : tf.keras.Model, input_vocabulary : dict,\n",
        "                       inv_output_vocabulary : dict, text : str,\n",
        "                       n_s : int = 128, num : int = 7):\n",
        "\n",
        "    attention_map = np.zeros((10, 30))\n",
        "    layer = model.get_layer('attention_weights')\n",
        "\n",
        "    Ty, Tx = attention_map.shape\n",
        "    \n",
        "    human_vocab_size = 37\n",
        "    \n",
        "    # Well, this is cumbersome but this version of tensorflow-keras has a bug that affects the \n",
        "    # reuse of layers in a model with the functional API. \n",
        "    # So, I have to recreate the model based on the functional \n",
        "    # components and connect then one by one.\n",
        "    # ideally it can be done simply like this:\n",
        "    # layer = modelx.layers[num]\n",
        "    # f = Model(modelx.inputs, [layer.get_output_at(t) for t in range(Ty)])\n",
        "    \n",
        "    X = model.inputs[0] \n",
        "    s0 = model.inputs[1] \n",
        "    c0 = model.inputs[2] \n",
        "    s = s0\n",
        "    c = s0\n",
        "    \n",
        "    a = model.layers[2](X)  \n",
        "    outputs = []\n",
        "\n",
        "    for t in range(Ty):\n",
        "        s_prev = s\n",
        "        s_prev = model.layers[3](s_prev)\n",
        "        concat = model.layers[4]([a, s_prev]) \n",
        "        e = model.layers[5](concat) \n",
        "        energies = model.layers[6](e) \n",
        "        alphas = model.layers[7](energies) \n",
        "        context = model.layers[8]([alphas, a])\n",
        "        s, _, c = model.layers[10](context, initial_state = [s, c]) \n",
        "        outputs.append(energies)\n",
        "\n",
        "    f = tf.keras.Model(inputs=[X, s0, c0], outputs = outputs)\n",
        "    \n",
        "\n",
        "    s0 = np.zeros((1, n_s))\n",
        "    c0 = np.zeros((1, n_s))\n",
        "    encoded = np.array(encode(text, Tx, input_vocabulary)).reshape((1, 30))\n",
        "    encoded = np.array(list(map(lambda x: tf.keras.utils.to_categorical(x, num_classes=len(input_vocabulary)), encoded)))\n",
        "\n",
        "    \n",
        "    r = f([encoded, s0, c0])\n",
        "        \n",
        "    for t in range(Ty):\n",
        "        for t_prime in range(Tx):\n",
        "            attention_map[t][t_prime] = r[t][0, t_prime]\n",
        "\n",
        "    # Normalize attention map\n",
        "    row_max = attention_map.max(axis=1)\n",
        "    attention_map = attention_map / row_max[:, None]\n",
        "\n",
        "    prediction = model.predict([encoded, s0, c0])\n",
        "    \n",
        "    predicted_text = []\n",
        "    for i in range(len(prediction)):\n",
        "        predicted_text.append(int(np.argmax(prediction[i], axis=1)))\n",
        "        \n",
        "    predicted_text = list(predicted_text)\n",
        "    predicted_text = decode(predicted_text, inv_output_vocabulary)\n",
        "    text_ = list(text)\n",
        "    \n",
        "    # get the lengths of the string\n",
        "    input_length = len(text)\n",
        "    output_length = Ty\n",
        "    \n",
        "    # Plot the attention_map\n",
        "    plt.clf()\n",
        "    f = plt.figure(figsize=(8, 8.5))\n",
        "    ax = f.add_subplot(1, 1, 1)\n",
        "\n",
        "    # add image\n",
        "    i = ax.imshow(attention_map, interpolation='nearest', cmap='Blues')\n",
        "\n",
        "    # add colorbar\n",
        "    cbaxes = f.add_axes([0.2, 0, 0.6, 0.03])\n",
        "    cbar = f.colorbar(i, cax=cbaxes, orientation='horizontal')\n",
        "    cbar.ax.set_xlabel('Alpha value (Probability output of the \"softmax\")', labelpad=2)\n",
        "\n",
        "    # add labels\n",
        "    ax.set_yticks(range(output_length))\n",
        "    ax.set_yticklabels(predicted_text[:output_length])\n",
        "\n",
        "    ax.set_xticks(range(input_length))\n",
        "    ax.set_xticklabels(text_[:input_length], rotation=45)\n",
        "\n",
        "    ax.set_xlabel('Input Sequence')\n",
        "    ax.set_ylabel('Output Sequence')\n",
        "\n",
        "    # add grid and legend\n",
        "    ax.grid()\n",
        "\n",
        "    #f.show()\n",
        "    \n",
        "    return attention_map"
      ],
      "metadata": {
        "id": "5ghadOhvxQHC"
      },
      "execution_count": 34,
      "outputs": []
    },
    {
      "cell_type": "code",
      "source": [
        "attention_map = plot_attention_map(model, human_vocab, inv_machine_vocab,\n",
        "                                   \"tuesday january 17 1995\", n_s = 64)"
      ],
      "metadata": {
        "colab": {
          "base_uri": "https://localhost:8080/",
          "height": 477
        },
        "id": "5_5msBk4F6BU",
        "outputId": "861a8269-40f1-47d0-aa1f-dbe8c2f9073f"
      },
      "execution_count": 38,
      "outputs": [
        {
          "output_type": "stream",
          "name": "stderr",
          "text": [
            "/usr/local/lib/python3.7/dist-packages/ipykernel_launcher.py:59: RuntimeWarning: invalid value encountered in true_divide\n"
          ]
        },
        {
          "output_type": "display_data",
          "data": {
            "text/plain": [
              "<Figure size 432x288 with 0 Axes>"
            ]
          },
          "metadata": {}
        },
        {
          "output_type": "display_data",
          "data": {
            "text/plain": [
              "<Figure size 576x612 with 2 Axes>"
            ],
            "image/png": "[encoded data removed]"
          },
          "metadata": {
            "needs_background": "light"
          }
        }
      ]
    }
  ]
}